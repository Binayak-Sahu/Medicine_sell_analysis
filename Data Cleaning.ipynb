{
 "cells": [
  {
   "cell_type": "code",
   "execution_count": 1,
   "id": "47ca3a5a",
   "metadata": {},
   "outputs": [],
   "source": [
    "import numpy as np\n",
    "import pandas as pd\n",
    "import matplotlib.pyplot as plt\n",
    "import seaborn as sns"
   ]
  },
  {
   "cell_type": "code",
   "execution_count": 2,
   "id": "615136c4",
   "metadata": {},
   "outputs": [],
   "source": [
    "df = pd.read_csv(\"C:\\\\Users\\Saswata Tripathy\\Desktop\\physician level data.csv\")\n"
   ]
  },
  {
   "cell_type": "code",
   "execution_count": 3,
   "id": "7bbb5f36",
   "metadata": {},
   "outputs": [
    {
     "data": {
      "text/plain": [
       "(15998, 15)"
      ]
     },
     "execution_count": 3,
     "metadata": {},
     "output_type": "execute_result"
    }
   ],
   "source": [
    "df.shape"
   ]
  },
  {
   "cell_type": "code",
   "execution_count": 4,
   "id": "27d171be",
   "metadata": {},
   "outputs": [],
   "source": [
    "df.drop_duplicates(inplace = True)"
   ]
  },
  {
   "cell_type": "code",
   "execution_count": 5,
   "id": "db8bc3a6",
   "metadata": {},
   "outputs": [
    {
     "data": {
      "text/plain": [
       "(15994, 15)"
      ]
     },
     "execution_count": 5,
     "metadata": {},
     "output_type": "execute_result"
    }
   ],
   "source": [
    "df.shape"
   ]
  },
  {
   "cell_type": "code",
   "execution_count": 6,
   "id": "723b568b",
   "metadata": {},
   "outputs": [],
   "source": [
    "df2 = pd.read_csv(\"C:\\\\Users\\\\Saswata Tripathy\\\\Desktop\\\\xx.csv\")"
   ]
  },
  {
   "cell_type": "code",
   "execution_count": 7,
   "id": "97f73c8f",
   "metadata": {},
   "outputs": [
    {
     "data": {
      "text/plain": [
       "(13379, 6)"
      ]
     },
     "execution_count": 7,
     "metadata": {},
     "output_type": "execute_result"
    }
   ],
   "source": [
    "df2.shape"
   ]
  },
  {
   "cell_type": "code",
   "execution_count": 8,
   "id": "82dd108f",
   "metadata": {},
   "outputs": [
    {
     "data": {
      "text/plain": [
       "Physician ID      0\n",
       "Physician Name    0\n",
       "Hospital ID       2\n",
       "Hospital Name     0\n",
       "Hospital ZIP      0\n",
       "Hospital City     0\n",
       "dtype: int64"
      ]
     },
     "execution_count": 8,
     "metadata": {},
     "output_type": "execute_result"
    }
   ],
   "source": [
    "df2.isnull().sum()"
   ]
  },
  {
   "cell_type": "code",
   "execution_count": 9,
   "id": "2355a2c3",
   "metadata": {},
   "outputs": [],
   "source": [
    "df_with_nan = df2[df2.isna().any(axis=1)]"
   ]
  },
  {
   "cell_type": "code",
   "execution_count": 10,
   "id": "d1eefba0",
   "metadata": {},
   "outputs": [
    {
     "data": {
      "text/html": [
       "<div>\n",
       "<style scoped>\n",
       "    .dataframe tbody tr th:only-of-type {\n",
       "        vertical-align: middle;\n",
       "    }\n",
       "\n",
       "    .dataframe tbody tr th {\n",
       "        vertical-align: top;\n",
       "    }\n",
       "\n",
       "    .dataframe thead th {\n",
       "        text-align: right;\n",
       "    }\n",
       "</style>\n",
       "<table border=\"1\" class=\"dataframe\">\n",
       "  <thead>\n",
       "    <tr style=\"text-align: right;\">\n",
       "      <th></th>\n",
       "      <th>Physician ID</th>\n",
       "      <th>Physician Name</th>\n",
       "      <th>Hospital ID</th>\n",
       "      <th>Hospital Name</th>\n",
       "      <th>Hospital ZIP</th>\n",
       "      <th>Hospital City</th>\n",
       "    </tr>\n",
       "  </thead>\n",
       "  <tbody>\n",
       "    <tr>\n",
       "      <th>6734</th>\n",
       "      <td>62758037</td>\n",
       "      <td>Sarah George</td>\n",
       "      <td>NaN</td>\n",
       "      <td>-</td>\n",
       "      <td>-</td>\n",
       "      <td>ALTOONA</td>\n",
       "    </tr>\n",
       "    <tr>\n",
       "      <th>8103</th>\n",
       "      <td>96301699</td>\n",
       "      <td>Madiha Gilani</td>\n",
       "      <td>NaN</td>\n",
       "      <td>-</td>\n",
       "      <td>-</td>\n",
       "      <td>ALTOONA</td>\n",
       "    </tr>\n",
       "  </tbody>\n",
       "</table>\n",
       "</div>"
      ],
      "text/plain": [
       "      Physician ID Physician Name Hospital ID Hospital Name Hospital ZIP  \\\n",
       "6734      62758037   Sarah George         NaN             -            -   \n",
       "8103      96301699  Madiha Gilani         NaN             -            -   \n",
       "\n",
       "     Hospital City  \n",
       "6734       ALTOONA  \n",
       "8103       ALTOONA  "
      ]
     },
     "execution_count": 10,
     "metadata": {},
     "output_type": "execute_result"
    }
   ],
   "source": [
    "df_with_nan"
   ]
  },
  {
   "cell_type": "code",
   "execution_count": 11,
   "id": "7a871bee",
   "metadata": {},
   "outputs": [],
   "source": [
    "deleted_rows = df_with_nan['Physician ID'].values"
   ]
  },
  {
   "cell_type": "code",
   "execution_count": 12,
   "id": "db98b2ab",
   "metadata": {},
   "outputs": [
    {
     "data": {
      "text/plain": [
       "array([62758037, 96301699], dtype=int64)"
      ]
     },
     "execution_count": 12,
     "metadata": {},
     "output_type": "execute_result"
    }
   ],
   "source": [
    "deleted_rows"
   ]
  },
  {
   "cell_type": "code",
   "execution_count": 13,
   "id": "14279662",
   "metadata": {},
   "outputs": [],
   "source": [
    "df_filter = df[~df['Physician ID'].isin(deleted_rows)]"
   ]
  },
  {
   "cell_type": "code",
   "execution_count": 14,
   "id": "42da883c",
   "metadata": {},
   "outputs": [
    {
     "data": {
      "text/plain": [
       "(15992, 15)"
      ]
     },
     "execution_count": 14,
     "metadata": {},
     "output_type": "execute_result"
    }
   ],
   "source": [
    "df_filter.shape"
   ]
  },
  {
   "cell_type": "code",
   "execution_count": 15,
   "id": "b64e0a04",
   "metadata": {},
   "outputs": [],
   "source": [
    "df_cleaned = df_filter"
   ]
  },
  {
   "cell_type": "code",
   "execution_count": 39,
   "id": "727e21b1",
   "metadata": {},
   "outputs": [
    {
     "name": "stdout",
     "output_type": "stream",
     "text": [
      "<class 'pandas.core.frame.DataFrame'>\n",
      "Int64Index: 15992 entries, 0 to 15993\n",
      "Data columns (total 15 columns):\n",
      " #   Column          Non-Null Count  Dtype \n",
      "---  ------          --------------  ----- \n",
      " 0   Physician ID    15992 non-null  int64 \n",
      " 1   Physician Name  15992 non-null  object\n",
      " 2   Specialty       15992 non-null  object\n",
      " 3   Jan'23 F        15992 non-null  int64 \n",
      " 4   Feb'23 F        15992 non-null  int64 \n",
      " 5   Mar'23 F        15992 non-null  int64 \n",
      " 6   Apr'23 F        15992 non-null  int64 \n",
      " 7   May'23 F        15992 non-null  int64 \n",
      " 8   Jun'23 F        15992 non-null  int64 \n",
      " 9   Jan'23 M        15992 non-null  int64 \n",
      " 10  Feb'23 M        15992 non-null  int64 \n",
      " 11  Mar'23 M        15992 non-null  int64 \n",
      " 12  Apr'23 M        15992 non-null  int64 \n",
      " 13  May'23 M        15992 non-null  int64 \n",
      " 14  Jun'23 M        15992 non-null  int64 \n",
      "dtypes: int64(13), object(2)\n",
      "memory usage: 2.0+ MB\n"
     ]
    }
   ],
   "source": [
    "df_cleaned.info()"
   ]
  },
  {
   "cell_type": "code",
   "execution_count": 16,
   "id": "0a0d633c",
   "metadata": {},
   "outputs": [
    {
     "data": {
      "text/html": [
       "<div>\n",
       "<style scoped>\n",
       "    .dataframe tbody tr th:only-of-type {\n",
       "        vertical-align: middle;\n",
       "    }\n",
       "\n",
       "    .dataframe tbody tr th {\n",
       "        vertical-align: top;\n",
       "    }\n",
       "\n",
       "    .dataframe thead th {\n",
       "        text-align: right;\n",
       "    }\n",
       "</style>\n",
       "<table border=\"1\" class=\"dataframe\">\n",
       "  <thead>\n",
       "    <tr style=\"text-align: right;\">\n",
       "      <th></th>\n",
       "      <th>Physician ID</th>\n",
       "      <th>Physician Name</th>\n",
       "      <th>Specialty</th>\n",
       "      <th>Jan'23 F</th>\n",
       "      <th>Feb'23 F</th>\n",
       "      <th>Mar'23 F</th>\n",
       "      <th>Apr'23 F</th>\n",
       "      <th>May'23 F</th>\n",
       "      <th>Jun'23 F</th>\n",
       "      <th>Jan'23 M</th>\n",
       "      <th>Feb'23 M</th>\n",
       "      <th>Mar'23 M</th>\n",
       "      <th>Apr'23 M</th>\n",
       "      <th>May'23 M</th>\n",
       "      <th>Jun'23 M</th>\n",
       "    </tr>\n",
       "  </thead>\n",
       "  <tbody>\n",
       "    <tr>\n",
       "      <th>0</th>\n",
       "      <td>51019201</td>\n",
       "      <td>Rahul Naik</td>\n",
       "      <td>SURGICAL ONCOLOGY</td>\n",
       "      <td>12</td>\n",
       "      <td>13</td>\n",
       "      <td>31</td>\n",
       "      <td>28</td>\n",
       "      <td>28</td>\n",
       "      <td>48</td>\n",
       "      <td>1</td>\n",
       "      <td>24</td>\n",
       "      <td>35</td>\n",
       "      <td>38</td>\n",
       "      <td>47</td>\n",
       "      <td>55</td>\n",
       "    </tr>\n",
       "    <tr>\n",
       "      <th>1</th>\n",
       "      <td>61507774</td>\n",
       "      <td>ALBERT PARK</td>\n",
       "      <td>RADIOLOGY ONCOLOGY</td>\n",
       "      <td>12</td>\n",
       "      <td>11</td>\n",
       "      <td>29</td>\n",
       "      <td>25</td>\n",
       "      <td>27</td>\n",
       "      <td>44</td>\n",
       "      <td>12</td>\n",
       "      <td>11</td>\n",
       "      <td>12</td>\n",
       "      <td>15</td>\n",
       "      <td>33</td>\n",
       "      <td>43</td>\n",
       "    </tr>\n",
       "    <tr>\n",
       "      <th>2</th>\n",
       "      <td>82693360</td>\n",
       "      <td>ELLICE WONG</td>\n",
       "      <td>RADIOLOGY ONCOLOGY</td>\n",
       "      <td>1</td>\n",
       "      <td>11</td>\n",
       "      <td>33</td>\n",
       "      <td>32</td>\n",
       "      <td>40</td>\n",
       "      <td>39</td>\n",
       "      <td>13</td>\n",
       "      <td>13</td>\n",
       "      <td>11</td>\n",
       "      <td>35</td>\n",
       "      <td>46</td>\n",
       "      <td>38</td>\n",
       "    </tr>\n",
       "    <tr>\n",
       "      <th>3</th>\n",
       "      <td>14600351</td>\n",
       "      <td>KANISHKA CHAKRABORTY</td>\n",
       "      <td>HEMATOLOGY/ONCOLOGY</td>\n",
       "      <td>3</td>\n",
       "      <td>19</td>\n",
       "      <td>16</td>\n",
       "      <td>19</td>\n",
       "      <td>31</td>\n",
       "      <td>30</td>\n",
       "      <td>25</td>\n",
       "      <td>10</td>\n",
       "      <td>37</td>\n",
       "      <td>40</td>\n",
       "      <td>37</td>\n",
       "      <td>44</td>\n",
       "    </tr>\n",
       "    <tr>\n",
       "      <th>4</th>\n",
       "      <td>28190162</td>\n",
       "      <td>BRENDA SHOO</td>\n",
       "      <td>RADIOLOGY ONCOLOGY</td>\n",
       "      <td>12</td>\n",
       "      <td>16</td>\n",
       "      <td>18</td>\n",
       "      <td>32</td>\n",
       "      <td>35</td>\n",
       "      <td>42</td>\n",
       "      <td>2</td>\n",
       "      <td>14</td>\n",
       "      <td>13</td>\n",
       "      <td>19</td>\n",
       "      <td>42</td>\n",
       "      <td>45</td>\n",
       "    </tr>\n",
       "    <tr>\n",
       "      <th>...</th>\n",
       "      <td>...</td>\n",
       "      <td>...</td>\n",
       "      <td>...</td>\n",
       "      <td>...</td>\n",
       "      <td>...</td>\n",
       "      <td>...</td>\n",
       "      <td>...</td>\n",
       "      <td>...</td>\n",
       "      <td>...</td>\n",
       "      <td>...</td>\n",
       "      <td>...</td>\n",
       "      <td>...</td>\n",
       "      <td>...</td>\n",
       "      <td>...</td>\n",
       "      <td>...</td>\n",
       "    </tr>\n",
       "    <tr>\n",
       "      <th>15989</th>\n",
       "      <td>77676681</td>\n",
       "      <td>Rajeev Balmiki</td>\n",
       "      <td>PATHOLOGY, HEMATOLOGY</td>\n",
       "      <td>11</td>\n",
       "      <td>15</td>\n",
       "      <td>16</td>\n",
       "      <td>19</td>\n",
       "      <td>28</td>\n",
       "      <td>37</td>\n",
       "      <td>25</td>\n",
       "      <td>9</td>\n",
       "      <td>22</td>\n",
       "      <td>40</td>\n",
       "      <td>48</td>\n",
       "      <td>37</td>\n",
       "    </tr>\n",
       "    <tr>\n",
       "      <th>15990</th>\n",
       "      <td>54257321</td>\n",
       "      <td>GREGORY OTTERSON</td>\n",
       "      <td>RADIOLOGY ONCOLOGY</td>\n",
       "      <td>4</td>\n",
       "      <td>21</td>\n",
       "      <td>28</td>\n",
       "      <td>28</td>\n",
       "      <td>38</td>\n",
       "      <td>50</td>\n",
       "      <td>7</td>\n",
       "      <td>18</td>\n",
       "      <td>14</td>\n",
       "      <td>38</td>\n",
       "      <td>45</td>\n",
       "      <td>43</td>\n",
       "    </tr>\n",
       "    <tr>\n",
       "      <th>15991</th>\n",
       "      <td>71747190</td>\n",
       "      <td>MARC LORIAUX</td>\n",
       "      <td>HEMATOLOGY</td>\n",
       "      <td>5</td>\n",
       "      <td>12</td>\n",
       "      <td>20</td>\n",
       "      <td>21</td>\n",
       "      <td>37</td>\n",
       "      <td>41</td>\n",
       "      <td>7</td>\n",
       "      <td>9</td>\n",
       "      <td>33</td>\n",
       "      <td>39</td>\n",
       "      <td>46</td>\n",
       "      <td>42</td>\n",
       "    </tr>\n",
       "    <tr>\n",
       "      <th>15992</th>\n",
       "      <td>74951364</td>\n",
       "      <td>YOUNG KWAK</td>\n",
       "      <td>Not Specified</td>\n",
       "      <td>10</td>\n",
       "      <td>13</td>\n",
       "      <td>18</td>\n",
       "      <td>15</td>\n",
       "      <td>26</td>\n",
       "      <td>39</td>\n",
       "      <td>8</td>\n",
       "      <td>6</td>\n",
       "      <td>31</td>\n",
       "      <td>24</td>\n",
       "      <td>35</td>\n",
       "      <td>48</td>\n",
       "    </tr>\n",
       "    <tr>\n",
       "      <th>15993</th>\n",
       "      <td>40665907</td>\n",
       "      <td>SANDRA VICTOR</td>\n",
       "      <td>HEMATOLOGY</td>\n",
       "      <td>2</td>\n",
       "      <td>13</td>\n",
       "      <td>32</td>\n",
       "      <td>23</td>\n",
       "      <td>36</td>\n",
       "      <td>40</td>\n",
       "      <td>25</td>\n",
       "      <td>2</td>\n",
       "      <td>34</td>\n",
       "      <td>34</td>\n",
       "      <td>38</td>\n",
       "      <td>45</td>\n",
       "    </tr>\n",
       "  </tbody>\n",
       "</table>\n",
       "<p>15992 rows × 15 columns</p>\n",
       "</div>"
      ],
      "text/plain": [
       "       Physician ID        Physician Name              Specialty  Jan'23 F  \\\n",
       "0          51019201            Rahul Naik      SURGICAL ONCOLOGY        12   \n",
       "1          61507774           ALBERT PARK     RADIOLOGY ONCOLOGY        12   \n",
       "2          82693360           ELLICE WONG     RADIOLOGY ONCOLOGY         1   \n",
       "3          14600351  KANISHKA CHAKRABORTY    HEMATOLOGY/ONCOLOGY         3   \n",
       "4          28190162           BRENDA SHOO     RADIOLOGY ONCOLOGY        12   \n",
       "...             ...                   ...                    ...       ...   \n",
       "15989      77676681        Rajeev Balmiki  PATHOLOGY, HEMATOLOGY        11   \n",
       "15990      54257321      GREGORY OTTERSON     RADIOLOGY ONCOLOGY         4   \n",
       "15991      71747190          MARC LORIAUX             HEMATOLOGY         5   \n",
       "15992      74951364            YOUNG KWAK          Not Specified        10   \n",
       "15993      40665907         SANDRA VICTOR             HEMATOLOGY         2   \n",
       "\n",
       "       Feb'23 F  Mar'23 F  Apr'23 F  May'23 F  Jun'23 F  Jan'23 M  Feb'23 M  \\\n",
       "0            13        31        28        28        48         1        24   \n",
       "1            11        29        25        27        44        12        11   \n",
       "2            11        33        32        40        39        13        13   \n",
       "3            19        16        19        31        30        25        10   \n",
       "4            16        18        32        35        42         2        14   \n",
       "...         ...       ...       ...       ...       ...       ...       ...   \n",
       "15989        15        16        19        28        37        25         9   \n",
       "15990        21        28        28        38        50         7        18   \n",
       "15991        12        20        21        37        41         7         9   \n",
       "15992        13        18        15        26        39         8         6   \n",
       "15993        13        32        23        36        40        25         2   \n",
       "\n",
       "       Mar'23 M  Apr'23 M  May'23 M  Jun'23 M  \n",
       "0            35        38        47        55  \n",
       "1            12        15        33        43  \n",
       "2            11        35        46        38  \n",
       "3            37        40        37        44  \n",
       "4            13        19        42        45  \n",
       "...         ...       ...       ...       ...  \n",
       "15989        22        40        48        37  \n",
       "15990        14        38        45        43  \n",
       "15991        33        39        46        42  \n",
       "15992        31        24        35        48  \n",
       "15993        34        34        38        45  \n",
       "\n",
       "[15992 rows x 15 columns]"
      ]
     },
     "execution_count": 16,
     "metadata": {},
     "output_type": "execute_result"
    }
   ],
   "source": [
    "df_cleaned"
   ]
  },
  {
   "cell_type": "code",
   "execution_count": 17,
   "id": "bab556aa",
   "metadata": {},
   "outputs": [],
   "source": [
    "df2.dropna(inplace = True)"
   ]
  },
  {
   "cell_type": "code",
   "execution_count": 18,
   "id": "89da8a93",
   "metadata": {},
   "outputs": [
    {
     "data": {
      "text/html": [
       "<div>\n",
       "<style scoped>\n",
       "    .dataframe tbody tr th:only-of-type {\n",
       "        vertical-align: middle;\n",
       "    }\n",
       "\n",
       "    .dataframe tbody tr th {\n",
       "        vertical-align: top;\n",
       "    }\n",
       "\n",
       "    .dataframe thead th {\n",
       "        text-align: right;\n",
       "    }\n",
       "</style>\n",
       "<table border=\"1\" class=\"dataframe\">\n",
       "  <thead>\n",
       "    <tr style=\"text-align: right;\">\n",
       "      <th></th>\n",
       "      <th>Physician ID</th>\n",
       "      <th>Physician Name</th>\n",
       "      <th>Hospital ID</th>\n",
       "      <th>Hospital Name</th>\n",
       "      <th>Hospital ZIP</th>\n",
       "      <th>Hospital City</th>\n",
       "    </tr>\n",
       "  </thead>\n",
       "  <tbody>\n",
       "    <tr>\n",
       "      <th>0</th>\n",
       "      <td>51019201</td>\n",
       "      <td>Rahul Naik</td>\n",
       "      <td>AC430</td>\n",
       "      <td>Saint Luke's Cancer Institute</td>\n",
       "      <td>603</td>\n",
       "      <td>AGUADILLA</td>\n",
       "    </tr>\n",
       "    <tr>\n",
       "      <th>1</th>\n",
       "      <td>61507774</td>\n",
       "      <td>ALBERT PARK</td>\n",
       "      <td>AC353</td>\n",
       "      <td>Joliet Oncology-Hematology Associates LTD</td>\n",
       "      <td>6040</td>\n",
       "      <td>MANCHESTER</td>\n",
       "    </tr>\n",
       "    <tr>\n",
       "      <th>2</th>\n",
       "      <td>82693360</td>\n",
       "      <td>ELLICE WONG</td>\n",
       "      <td>AC186</td>\n",
       "      <td>St. Bernards Cancer Center</td>\n",
       "      <td>45601</td>\n",
       "      <td>CHILLICOTHE</td>\n",
       "    </tr>\n",
       "    <tr>\n",
       "      <th>3</th>\n",
       "      <td>14600351</td>\n",
       "      <td>KANISHKA CHAKRABORTY</td>\n",
       "      <td>AC486</td>\n",
       "      <td>Genesis Cancer Care Institute</td>\n",
       "      <td>56401</td>\n",
       "      <td>BRAINERD</td>\n",
       "    </tr>\n",
       "    <tr>\n",
       "      <th>4</th>\n",
       "      <td>28190162</td>\n",
       "      <td>BRENDA SHOO</td>\n",
       "      <td>AC957</td>\n",
       "      <td>Houston Methodist Health System</td>\n",
       "      <td>20715</td>\n",
       "      <td>BOWIE</td>\n",
       "    </tr>\n",
       "    <tr>\n",
       "      <th>...</th>\n",
       "      <td>...</td>\n",
       "      <td>...</td>\n",
       "      <td>...</td>\n",
       "      <td>...</td>\n",
       "      <td>...</td>\n",
       "      <td>...</td>\n",
       "    </tr>\n",
       "    <tr>\n",
       "      <th>13374</th>\n",
       "      <td>71747190</td>\n",
       "      <td>MARC LORIAUX</td>\n",
       "      <td>AC783</td>\n",
       "      <td>NEA Baptist Cancer Center</td>\n",
       "      <td>50010</td>\n",
       "      <td>AMES</td>\n",
       "    </tr>\n",
       "    <tr>\n",
       "      <th>13375</th>\n",
       "      <td>40665907</td>\n",
       "      <td>SANDRA VICTOR</td>\n",
       "      <td>AC367</td>\n",
       "      <td>Samaritan Pastega Regional Cancer Center</td>\n",
       "      <td>49508</td>\n",
       "      <td>GRAND RAPIDS</td>\n",
       "    </tr>\n",
       "    <tr>\n",
       "      <th>13376</th>\n",
       "      <td>54257321</td>\n",
       "      <td>GREGORY OTTERSON</td>\n",
       "      <td>AC674</td>\n",
       "      <td>Dosik Hematology And Oncology</td>\n",
       "      <td>28207</td>\n",
       "      <td>CHARLOTTE</td>\n",
       "    </tr>\n",
       "    <tr>\n",
       "      <th>13377</th>\n",
       "      <td>71747190</td>\n",
       "      <td>MARC LORIAUX</td>\n",
       "      <td>AC783</td>\n",
       "      <td>NEA Baptist Cancer Center</td>\n",
       "      <td>50010</td>\n",
       "      <td>AMES</td>\n",
       "    </tr>\n",
       "    <tr>\n",
       "      <th>13378</th>\n",
       "      <td>40665907</td>\n",
       "      <td>SANDRA VICTOR</td>\n",
       "      <td>AC367</td>\n",
       "      <td>Samaritan Pastega Regional Cancer Center</td>\n",
       "      <td>49508</td>\n",
       "      <td>GRAND RAPIDS</td>\n",
       "    </tr>\n",
       "  </tbody>\n",
       "</table>\n",
       "<p>13377 rows × 6 columns</p>\n",
       "</div>"
      ],
      "text/plain": [
       "       Physician ID        Physician Name Hospital ID  \\\n",
       "0          51019201            Rahul Naik       AC430   \n",
       "1          61507774           ALBERT PARK       AC353   \n",
       "2          82693360           ELLICE WONG       AC186   \n",
       "3          14600351  KANISHKA CHAKRABORTY       AC486   \n",
       "4          28190162           BRENDA SHOO       AC957   \n",
       "...             ...                   ...         ...   \n",
       "13374      71747190          MARC LORIAUX       AC783   \n",
       "13375      40665907         SANDRA VICTOR       AC367   \n",
       "13376      54257321      GREGORY OTTERSON       AC674   \n",
       "13377      71747190          MARC LORIAUX       AC783   \n",
       "13378      40665907         SANDRA VICTOR       AC367   \n",
       "\n",
       "                                   Hospital Name Hospital ZIP Hospital City  \n",
       "0                  Saint Luke's Cancer Institute          603     AGUADILLA  \n",
       "1      Joliet Oncology-Hematology Associates LTD         6040    MANCHESTER  \n",
       "2                     St. Bernards Cancer Center        45601   CHILLICOTHE  \n",
       "3                  Genesis Cancer Care Institute        56401      BRAINERD  \n",
       "4                Houston Methodist Health System        20715         BOWIE  \n",
       "...                                          ...          ...           ...  \n",
       "13374                  NEA Baptist Cancer Center        50010          AMES  \n",
       "13375   Samaritan Pastega Regional Cancer Center        49508  GRAND RAPIDS  \n",
       "13376              Dosik Hematology And Oncology        28207     CHARLOTTE  \n",
       "13377                  NEA Baptist Cancer Center        50010          AMES  \n",
       "13378   Samaritan Pastega Regional Cancer Center        49508  GRAND RAPIDS  \n",
       "\n",
       "[13377 rows x 6 columns]"
      ]
     },
     "execution_count": 18,
     "metadata": {},
     "output_type": "execute_result"
    }
   ],
   "source": [
    "df2"
   ]
  },
  {
   "cell_type": "code",
   "execution_count": 19,
   "id": "3513e13a",
   "metadata": {},
   "outputs": [
    {
     "data": {
      "text/plain": [
       "Physician ID  Physician Name     Hospital ID  Hospital Name                             Hospital ZIP  Hospital City\n",
       "40665907      SANDRA VICTOR      AC367        Samaritan Pastega Regional Cancer Center  49508         GRAND RAPIDS     2\n",
       "54257321      GREGORY OTTERSON   AC674        Dosik Hematology And Oncology             28207         CHARLOTTE        2\n",
       "71747190      MARC LORIAUX       AC783        NEA Baptist Cancer Center                 50010         AMES             2\n",
       "69847730      KIMBERLY RIDOLFI   AC324        Baltimore Oncology and Hematology         71111         BOSSIER CITY     1\n",
       "69769433      JOHN ELLERTON      AC723        Highland Hospital of Rochester            76310         WICHITA FALLS    1\n",
       "                                                                                                                      ..\n",
       "39868417      LAURA FREEDMAN     AC695        Swedish Health Services                   95991         YUBA CITY        1\n",
       "39871583      NIVEDITA ARORA     AC961        Honor Health                              17331         HANOVER          1\n",
       "39874682      NEIL ADELMAN       AC931        Millennium Oncology Hollywood, FL         4856          ROCKPORT         1\n",
       "39875702      NORA SADEK         AC740        Northwell Health                          64132         KANSAS CITY      1\n",
       "99991039      Steven Margossian  AC851        Northwest Oncology And Hematology         21224         BALTIMORE        1\n",
       "Length: 13374, dtype: int64"
      ]
     },
     "execution_count": 19,
     "metadata": {},
     "output_type": "execute_result"
    }
   ],
   "source": [
    "df2.value_counts()"
   ]
  },
  {
   "cell_type": "code",
   "execution_count": 20,
   "id": "80690c40",
   "metadata": {},
   "outputs": [],
   "source": [
    "df2.drop_duplicates(inplace = True)"
   ]
  },
  {
   "cell_type": "code",
   "execution_count": 21,
   "id": "b008cbe1",
   "metadata": {},
   "outputs": [
    {
     "data": {
      "text/plain": [
       "(13374, 6)"
      ]
     },
     "execution_count": 21,
     "metadata": {},
     "output_type": "execute_result"
    }
   ],
   "source": [
    "df2.shape"
   ]
  },
  {
   "cell_type": "code",
   "execution_count": 22,
   "id": "09fb8e55",
   "metadata": {},
   "outputs": [
    {
     "data": {
      "text/html": [
       "<div>\n",
       "<style scoped>\n",
       "    .dataframe tbody tr th:only-of-type {\n",
       "        vertical-align: middle;\n",
       "    }\n",
       "\n",
       "    .dataframe tbody tr th {\n",
       "        vertical-align: top;\n",
       "    }\n",
       "\n",
       "    .dataframe thead th {\n",
       "        text-align: right;\n",
       "    }\n",
       "</style>\n",
       "<table border=\"1\" class=\"dataframe\">\n",
       "  <thead>\n",
       "    <tr style=\"text-align: right;\">\n",
       "      <th></th>\n",
       "      <th>Physician ID</th>\n",
       "      <th>Physician Name</th>\n",
       "      <th>Hospital ID</th>\n",
       "      <th>Hospital Name</th>\n",
       "      <th>Hospital ZIP</th>\n",
       "      <th>Hospital City</th>\n",
       "    </tr>\n",
       "  </thead>\n",
       "  <tbody>\n",
       "    <tr>\n",
       "      <th>0</th>\n",
       "      <td>51019201</td>\n",
       "      <td>Rahul Naik</td>\n",
       "      <td>AC430</td>\n",
       "      <td>Saint Luke's Cancer Institute</td>\n",
       "      <td>603</td>\n",
       "      <td>AGUADILLA</td>\n",
       "    </tr>\n",
       "    <tr>\n",
       "      <th>1</th>\n",
       "      <td>61507774</td>\n",
       "      <td>ALBERT PARK</td>\n",
       "      <td>AC353</td>\n",
       "      <td>Joliet Oncology-Hematology Associates LTD</td>\n",
       "      <td>6040</td>\n",
       "      <td>MANCHESTER</td>\n",
       "    </tr>\n",
       "    <tr>\n",
       "      <th>2</th>\n",
       "      <td>82693360</td>\n",
       "      <td>ELLICE WONG</td>\n",
       "      <td>AC186</td>\n",
       "      <td>St. Bernards Cancer Center</td>\n",
       "      <td>45601</td>\n",
       "      <td>CHILLICOTHE</td>\n",
       "    </tr>\n",
       "    <tr>\n",
       "      <th>3</th>\n",
       "      <td>14600351</td>\n",
       "      <td>KANISHKA CHAKRABORTY</td>\n",
       "      <td>AC486</td>\n",
       "      <td>Genesis Cancer Care Institute</td>\n",
       "      <td>56401</td>\n",
       "      <td>BRAINERD</td>\n",
       "    </tr>\n",
       "    <tr>\n",
       "      <th>4</th>\n",
       "      <td>28190162</td>\n",
       "      <td>BRENDA SHOO</td>\n",
       "      <td>AC957</td>\n",
       "      <td>Houston Methodist Health System</td>\n",
       "      <td>20715</td>\n",
       "      <td>BOWIE</td>\n",
       "    </tr>\n",
       "    <tr>\n",
       "      <th>...</th>\n",
       "      <td>...</td>\n",
       "      <td>...</td>\n",
       "      <td>...</td>\n",
       "      <td>...</td>\n",
       "      <td>...</td>\n",
       "      <td>...</td>\n",
       "    </tr>\n",
       "    <tr>\n",
       "      <th>13371</th>\n",
       "      <td>91688023</td>\n",
       "      <td>Amrita Krishnan</td>\n",
       "      <td>AC443</td>\n",
       "      <td>Maine Medical Center</td>\n",
       "      <td>17036</td>\n",
       "      <td>HUMMELSTOWN</td>\n",
       "    </tr>\n",
       "    <tr>\n",
       "      <th>13372</th>\n",
       "      <td>77676681</td>\n",
       "      <td>Rajeev Balmiki</td>\n",
       "      <td>AC454</td>\n",
       "      <td>Multicare Mary Bridge Childrens Health Center</td>\n",
       "      <td>77504</td>\n",
       "      <td>PASADENA</td>\n",
       "    </tr>\n",
       "    <tr>\n",
       "      <th>13373</th>\n",
       "      <td>54257321</td>\n",
       "      <td>GREGORY OTTERSON</td>\n",
       "      <td>AC674</td>\n",
       "      <td>Dosik Hematology And Oncology</td>\n",
       "      <td>28207</td>\n",
       "      <td>CHARLOTTE</td>\n",
       "    </tr>\n",
       "    <tr>\n",
       "      <th>13374</th>\n",
       "      <td>71747190</td>\n",
       "      <td>MARC LORIAUX</td>\n",
       "      <td>AC783</td>\n",
       "      <td>NEA Baptist Cancer Center</td>\n",
       "      <td>50010</td>\n",
       "      <td>AMES</td>\n",
       "    </tr>\n",
       "    <tr>\n",
       "      <th>13375</th>\n",
       "      <td>40665907</td>\n",
       "      <td>SANDRA VICTOR</td>\n",
       "      <td>AC367</td>\n",
       "      <td>Samaritan Pastega Regional Cancer Center</td>\n",
       "      <td>49508</td>\n",
       "      <td>GRAND RAPIDS</td>\n",
       "    </tr>\n",
       "  </tbody>\n",
       "</table>\n",
       "<p>13374 rows × 6 columns</p>\n",
       "</div>"
      ],
      "text/plain": [
       "       Physician ID        Physician Name Hospital ID  \\\n",
       "0          51019201            Rahul Naik       AC430   \n",
       "1          61507774           ALBERT PARK       AC353   \n",
       "2          82693360           ELLICE WONG       AC186   \n",
       "3          14600351  KANISHKA CHAKRABORTY       AC486   \n",
       "4          28190162           BRENDA SHOO       AC957   \n",
       "...             ...                   ...         ...   \n",
       "13371      91688023       Amrita Krishnan       AC443   \n",
       "13372      77676681        Rajeev Balmiki       AC454   \n",
       "13373      54257321      GREGORY OTTERSON       AC674   \n",
       "13374      71747190          MARC LORIAUX       AC783   \n",
       "13375      40665907         SANDRA VICTOR       AC367   \n",
       "\n",
       "                                       Hospital Name Hospital ZIP  \\\n",
       "0                      Saint Luke's Cancer Institute          603   \n",
       "1          Joliet Oncology-Hematology Associates LTD         6040   \n",
       "2                         St. Bernards Cancer Center        45601   \n",
       "3                      Genesis Cancer Care Institute        56401   \n",
       "4                    Houston Methodist Health System        20715   \n",
       "...                                              ...          ...   \n",
       "13371                           Maine Medical Center        17036   \n",
       "13372  Multicare Mary Bridge Childrens Health Center        77504   \n",
       "13373                  Dosik Hematology And Oncology        28207   \n",
       "13374                      NEA Baptist Cancer Center        50010   \n",
       "13375       Samaritan Pastega Regional Cancer Center        49508   \n",
       "\n",
       "      Hospital City  \n",
       "0         AGUADILLA  \n",
       "1        MANCHESTER  \n",
       "2       CHILLICOTHE  \n",
       "3          BRAINERD  \n",
       "4             BOWIE  \n",
       "...             ...  \n",
       "13371   HUMMELSTOWN  \n",
       "13372      PASADENA  \n",
       "13373     CHARLOTTE  \n",
       "13374          AMES  \n",
       "13375  GRAND RAPIDS  \n",
       "\n",
       "[13374 rows x 6 columns]"
      ]
     },
     "execution_count": 22,
     "metadata": {},
     "output_type": "execute_result"
    }
   ],
   "source": [
    "df2"
   ]
  },
  {
   "cell_type": "code",
   "execution_count": 23,
   "id": "44d95e1a",
   "metadata": {},
   "outputs": [
    {
     "data": {
      "text/plain": [
       "Physician ID       int64\n",
       "Physician Name    object\n",
       "Hospital ID       object\n",
       "Hospital Name     object\n",
       "Hospital ZIP      object\n",
       "Hospital City     object\n",
       "dtype: object"
      ]
     },
     "execution_count": 23,
     "metadata": {},
     "output_type": "execute_result"
    }
   ],
   "source": [
    "df2.dtypes"
   ]
  },
  {
   "cell_type": "code",
   "execution_count": 24,
   "id": "4be08369",
   "metadata": {},
   "outputs": [],
   "source": [
    "df2['Hospital ZIP'] = df2['Hospital ZIP'].astype('int64')"
   ]
  },
  {
   "cell_type": "code",
   "execution_count": 25,
   "id": "ef7ea937",
   "metadata": {},
   "outputs": [
    {
     "data": {
      "text/plain": [
       "Physician ID       int64\n",
       "Physician Name    object\n",
       "Hospital ID       object\n",
       "Hospital Name     object\n",
       "Hospital ZIP       int64\n",
       "Hospital City     object\n",
       "dtype: object"
      ]
     },
     "execution_count": 25,
     "metadata": {},
     "output_type": "execute_result"
    }
   ],
   "source": [
    "df2.dtypes"
   ]
  },
  {
   "cell_type": "code",
   "execution_count": 26,
   "id": "f78e7016",
   "metadata": {},
   "outputs": [],
   "source": [
    "df2_cleaned = df2"
   ]
  },
  {
   "cell_type": "code",
   "execution_count": 40,
   "id": "4ea2e851",
   "metadata": {},
   "outputs": [
    {
     "name": "stdout",
     "output_type": "stream",
     "text": [
      "<class 'pandas.core.frame.DataFrame'>\n",
      "Int64Index: 13374 entries, 0 to 13375\n",
      "Data columns (total 6 columns):\n",
      " #   Column          Non-Null Count  Dtype \n",
      "---  ------          --------------  ----- \n",
      " 0   Physician ID    13374 non-null  int64 \n",
      " 1   Physician Name  13374 non-null  object\n",
      " 2   Hospital ID     13374 non-null  object\n",
      " 3   Hospital Name   13374 non-null  object\n",
      " 4   Hospital ZIP    13374 non-null  int64 \n",
      " 5   Hospital City   13374 non-null  object\n",
      "dtypes: int64(2), object(4)\n",
      "memory usage: 731.4+ KB\n"
     ]
    }
   ],
   "source": [
    "df2_cleaned.info()"
   ]
  },
  {
   "cell_type": "code",
   "execution_count": 27,
   "id": "d33f8a84",
   "metadata": {},
   "outputs": [
    {
     "data": {
      "text/html": [
       "<div>\n",
       "<style scoped>\n",
       "    .dataframe tbody tr th:only-of-type {\n",
       "        vertical-align: middle;\n",
       "    }\n",
       "\n",
       "    .dataframe tbody tr th {\n",
       "        vertical-align: top;\n",
       "    }\n",
       "\n",
       "    .dataframe thead th {\n",
       "        text-align: right;\n",
       "    }\n",
       "</style>\n",
       "<table border=\"1\" class=\"dataframe\">\n",
       "  <thead>\n",
       "    <tr style=\"text-align: right;\">\n",
       "      <th></th>\n",
       "      <th>Physician ID</th>\n",
       "      <th>Physician Name</th>\n",
       "      <th>Hospital ID</th>\n",
       "      <th>Hospital Name</th>\n",
       "      <th>Hospital ZIP</th>\n",
       "      <th>Hospital City</th>\n",
       "    </tr>\n",
       "  </thead>\n",
       "  <tbody>\n",
       "    <tr>\n",
       "      <th>0</th>\n",
       "      <td>51019201</td>\n",
       "      <td>Rahul Naik</td>\n",
       "      <td>AC430</td>\n",
       "      <td>Saint Luke's Cancer Institute</td>\n",
       "      <td>603</td>\n",
       "      <td>AGUADILLA</td>\n",
       "    </tr>\n",
       "    <tr>\n",
       "      <th>1</th>\n",
       "      <td>61507774</td>\n",
       "      <td>ALBERT PARK</td>\n",
       "      <td>AC353</td>\n",
       "      <td>Joliet Oncology-Hematology Associates LTD</td>\n",
       "      <td>6040</td>\n",
       "      <td>MANCHESTER</td>\n",
       "    </tr>\n",
       "    <tr>\n",
       "      <th>2</th>\n",
       "      <td>82693360</td>\n",
       "      <td>ELLICE WONG</td>\n",
       "      <td>AC186</td>\n",
       "      <td>St. Bernards Cancer Center</td>\n",
       "      <td>45601</td>\n",
       "      <td>CHILLICOTHE</td>\n",
       "    </tr>\n",
       "    <tr>\n",
       "      <th>3</th>\n",
       "      <td>14600351</td>\n",
       "      <td>KANISHKA CHAKRABORTY</td>\n",
       "      <td>AC486</td>\n",
       "      <td>Genesis Cancer Care Institute</td>\n",
       "      <td>56401</td>\n",
       "      <td>BRAINERD</td>\n",
       "    </tr>\n",
       "    <tr>\n",
       "      <th>4</th>\n",
       "      <td>28190162</td>\n",
       "      <td>BRENDA SHOO</td>\n",
       "      <td>AC957</td>\n",
       "      <td>Houston Methodist Health System</td>\n",
       "      <td>20715</td>\n",
       "      <td>BOWIE</td>\n",
       "    </tr>\n",
       "    <tr>\n",
       "      <th>...</th>\n",
       "      <td>...</td>\n",
       "      <td>...</td>\n",
       "      <td>...</td>\n",
       "      <td>...</td>\n",
       "      <td>...</td>\n",
       "      <td>...</td>\n",
       "    </tr>\n",
       "    <tr>\n",
       "      <th>13371</th>\n",
       "      <td>91688023</td>\n",
       "      <td>Amrita Krishnan</td>\n",
       "      <td>AC443</td>\n",
       "      <td>Maine Medical Center</td>\n",
       "      <td>17036</td>\n",
       "      <td>HUMMELSTOWN</td>\n",
       "    </tr>\n",
       "    <tr>\n",
       "      <th>13372</th>\n",
       "      <td>77676681</td>\n",
       "      <td>Rajeev Balmiki</td>\n",
       "      <td>AC454</td>\n",
       "      <td>Multicare Mary Bridge Childrens Health Center</td>\n",
       "      <td>77504</td>\n",
       "      <td>PASADENA</td>\n",
       "    </tr>\n",
       "    <tr>\n",
       "      <th>13373</th>\n",
       "      <td>54257321</td>\n",
       "      <td>GREGORY OTTERSON</td>\n",
       "      <td>AC674</td>\n",
       "      <td>Dosik Hematology And Oncology</td>\n",
       "      <td>28207</td>\n",
       "      <td>CHARLOTTE</td>\n",
       "    </tr>\n",
       "    <tr>\n",
       "      <th>13374</th>\n",
       "      <td>71747190</td>\n",
       "      <td>MARC LORIAUX</td>\n",
       "      <td>AC783</td>\n",
       "      <td>NEA Baptist Cancer Center</td>\n",
       "      <td>50010</td>\n",
       "      <td>AMES</td>\n",
       "    </tr>\n",
       "    <tr>\n",
       "      <th>13375</th>\n",
       "      <td>40665907</td>\n",
       "      <td>SANDRA VICTOR</td>\n",
       "      <td>AC367</td>\n",
       "      <td>Samaritan Pastega Regional Cancer Center</td>\n",
       "      <td>49508</td>\n",
       "      <td>GRAND RAPIDS</td>\n",
       "    </tr>\n",
       "  </tbody>\n",
       "</table>\n",
       "<p>13374 rows × 6 columns</p>\n",
       "</div>"
      ],
      "text/plain": [
       "       Physician ID        Physician Name Hospital ID  \\\n",
       "0          51019201            Rahul Naik       AC430   \n",
       "1          61507774           ALBERT PARK       AC353   \n",
       "2          82693360           ELLICE WONG       AC186   \n",
       "3          14600351  KANISHKA CHAKRABORTY       AC486   \n",
       "4          28190162           BRENDA SHOO       AC957   \n",
       "...             ...                   ...         ...   \n",
       "13371      91688023       Amrita Krishnan       AC443   \n",
       "13372      77676681        Rajeev Balmiki       AC454   \n",
       "13373      54257321      GREGORY OTTERSON       AC674   \n",
       "13374      71747190          MARC LORIAUX       AC783   \n",
       "13375      40665907         SANDRA VICTOR       AC367   \n",
       "\n",
       "                                       Hospital Name  Hospital ZIP  \\\n",
       "0                      Saint Luke's Cancer Institute           603   \n",
       "1          Joliet Oncology-Hematology Associates LTD          6040   \n",
       "2                         St. Bernards Cancer Center         45601   \n",
       "3                      Genesis Cancer Care Institute         56401   \n",
       "4                    Houston Methodist Health System         20715   \n",
       "...                                              ...           ...   \n",
       "13371                           Maine Medical Center         17036   \n",
       "13372  Multicare Mary Bridge Childrens Health Center         77504   \n",
       "13373                  Dosik Hematology And Oncology         28207   \n",
       "13374                      NEA Baptist Cancer Center         50010   \n",
       "13375       Samaritan Pastega Regional Cancer Center         49508   \n",
       "\n",
       "      Hospital City  \n",
       "0         AGUADILLA  \n",
       "1        MANCHESTER  \n",
       "2       CHILLICOTHE  \n",
       "3          BRAINERD  \n",
       "4             BOWIE  \n",
       "...             ...  \n",
       "13371   HUMMELSTOWN  \n",
       "13372      PASADENA  \n",
       "13373     CHARLOTTE  \n",
       "13374          AMES  \n",
       "13375  GRAND RAPIDS  \n",
       "\n",
       "[13374 rows x 6 columns]"
      ]
     },
     "execution_count": 27,
     "metadata": {},
     "output_type": "execute_result"
    }
   ],
   "source": [
    "df2_cleaned"
   ]
  },
  {
   "cell_type": "code",
   "execution_count": 28,
   "id": "22e832e9",
   "metadata": {},
   "outputs": [],
   "source": [
    "df3 = pd.read_csv(\"C:\\\\Users\\Saswata Tripathy\\Desktop\\ztt.csv\")"
   ]
  },
  {
   "cell_type": "code",
   "execution_count": 29,
   "id": "aeb53874",
   "metadata": {},
   "outputs": [
    {
     "data": {
      "text/html": [
       "<div>\n",
       "<style scoped>\n",
       "    .dataframe tbody tr th:only-of-type {\n",
       "        vertical-align: middle;\n",
       "    }\n",
       "\n",
       "    .dataframe tbody tr th {\n",
       "        vertical-align: top;\n",
       "    }\n",
       "\n",
       "    .dataframe thead th {\n",
       "        text-align: right;\n",
       "    }\n",
       "</style>\n",
       "<table border=\"1\" class=\"dataframe\">\n",
       "  <thead>\n",
       "    <tr style=\"text-align: right;\">\n",
       "      <th></th>\n",
       "      <th>ZIP</th>\n",
       "      <th>Territory_Name</th>\n",
       "      <th>Region_Name</th>\n",
       "    </tr>\n",
       "  </thead>\n",
       "  <tbody>\n",
       "    <tr>\n",
       "      <th>0</th>\n",
       "      <td>30002</td>\n",
       "      <td>Atlanta, GA</td>\n",
       "      <td>South</td>\n",
       "    </tr>\n",
       "    <tr>\n",
       "      <th>1</th>\n",
       "      <td>30003</td>\n",
       "      <td>Atlanta, GA</td>\n",
       "      <td>South</td>\n",
       "    </tr>\n",
       "    <tr>\n",
       "      <th>2</th>\n",
       "      <td>30004</td>\n",
       "      <td>Atlanta, GA</td>\n",
       "      <td>South</td>\n",
       "    </tr>\n",
       "    <tr>\n",
       "      <th>3</th>\n",
       "      <td>30005</td>\n",
       "      <td>Atlanta, GA</td>\n",
       "      <td>South</td>\n",
       "    </tr>\n",
       "    <tr>\n",
       "      <th>4</th>\n",
       "      <td>30006</td>\n",
       "      <td>Atlanta, GA</td>\n",
       "      <td>South</td>\n",
       "    </tr>\n",
       "    <tr>\n",
       "      <th>...</th>\n",
       "      <td>...</td>\n",
       "      <td>...</td>\n",
       "      <td>...</td>\n",
       "    </tr>\n",
       "    <tr>\n",
       "      <th>42002</th>\n",
       "      <td>96912</td>\n",
       "      <td>Los Angeles South, CA</td>\n",
       "      <td>West</td>\n",
       "    </tr>\n",
       "    <tr>\n",
       "      <th>42003</th>\n",
       "      <td>96923</td>\n",
       "      <td>Los Angeles South, CA</td>\n",
       "      <td>West</td>\n",
       "    </tr>\n",
       "    <tr>\n",
       "      <th>42004</th>\n",
       "      <td>96931</td>\n",
       "      <td>Los Angeles South, CA</td>\n",
       "      <td>West</td>\n",
       "    </tr>\n",
       "    <tr>\n",
       "      <th>42005</th>\n",
       "      <td>96939</td>\n",
       "      <td>Los Angeles South, CA</td>\n",
       "      <td>West</td>\n",
       "    </tr>\n",
       "    <tr>\n",
       "      <th>42006</th>\n",
       "      <td>96940</td>\n",
       "      <td>Los Angeles South, CA</td>\n",
       "      <td>West</td>\n",
       "    </tr>\n",
       "  </tbody>\n",
       "</table>\n",
       "<p>42007 rows × 3 columns</p>\n",
       "</div>"
      ],
      "text/plain": [
       "         ZIP         Territory_Name Region_Name\n",
       "0      30002            Atlanta, GA       South\n",
       "1      30003            Atlanta, GA       South\n",
       "2      30004            Atlanta, GA       South\n",
       "3      30005            Atlanta, GA       South\n",
       "4      30006            Atlanta, GA       South\n",
       "...      ...                    ...         ...\n",
       "42002  96912  Los Angeles South, CA        West\n",
       "42003  96923  Los Angeles South, CA        West\n",
       "42004  96931  Los Angeles South, CA        West\n",
       "42005  96939  Los Angeles South, CA        West\n",
       "42006  96940  Los Angeles South, CA        West\n",
       "\n",
       "[42007 rows x 3 columns]"
      ]
     },
     "execution_count": 29,
     "metadata": {},
     "output_type": "execute_result"
    }
   ],
   "source": [
    "df3"
   ]
  },
  {
   "cell_type": "code",
   "execution_count": 30,
   "id": "9e1e0169",
   "metadata": {},
   "outputs": [
    {
     "data": {
      "text/plain": [
       "(42007, 3)"
      ]
     },
     "execution_count": 30,
     "metadata": {},
     "output_type": "execute_result"
    }
   ],
   "source": [
    "df3.shape"
   ]
  },
  {
   "cell_type": "code",
   "execution_count": 31,
   "id": "e09982d1",
   "metadata": {},
   "outputs": [
    {
     "data": {
      "text/plain": [
       "Index(['ZIP', 'Territory_Name', 'Region_Name'], dtype='object')"
      ]
     },
     "execution_count": 31,
     "metadata": {},
     "output_type": "execute_result"
    }
   ],
   "source": [
    "df3.columns"
   ]
  },
  {
   "cell_type": "code",
   "execution_count": 32,
   "id": "9a33913d",
   "metadata": {},
   "outputs": [
    {
     "data": {
      "text/plain": [
       "ZIP    Territory_Name   Region_Name\n",
       "501    Long Island, NY  East           1\n",
       "64071  Kansas City, KS  South          1\n",
       "64073  Kansas City, KS  South          1\n",
       "64074  Kansas City, KS  South          1\n",
       "64075  Kansas City, KS  South          1\n",
       "                                      ..\n",
       "32773  Orlando, FL      South          1\n",
       "32774  Orlando, FL      South          1\n",
       "32775  Orlando, FL      South          1\n",
       "32776  Orlando, FL      South          1\n",
       "99950  Seattle N, WA    West           1\n",
       "Length: 42007, dtype: int64"
      ]
     },
     "execution_count": 32,
     "metadata": {},
     "output_type": "execute_result"
    }
   ],
   "source": [
    "df3.value_counts()"
   ]
  },
  {
   "cell_type": "code",
   "execution_count": 33,
   "id": "9f5ab444",
   "metadata": {},
   "outputs": [],
   "source": [
    "df3.drop_duplicates(inplace = True)"
   ]
  },
  {
   "cell_type": "code",
   "execution_count": 34,
   "id": "a3e03583",
   "metadata": {},
   "outputs": [],
   "source": [
    "df3_cleaned = df3"
   ]
  },
  {
   "cell_type": "code",
   "execution_count": 41,
   "id": "d5ed67ba",
   "metadata": {},
   "outputs": [
    {
     "name": "stdout",
     "output_type": "stream",
     "text": [
      "<class 'pandas.core.frame.DataFrame'>\n",
      "Int64Index: 42007 entries, 0 to 42006\n",
      "Data columns (total 3 columns):\n",
      " #   Column          Non-Null Count  Dtype \n",
      "---  ------          --------------  ----- \n",
      " 0   ZIP             42007 non-null  int64 \n",
      " 1   Territory_Name  42007 non-null  object\n",
      " 2   Region_Name     42007 non-null  object\n",
      "dtypes: int64(1), object(2)\n",
      "memory usage: 1.3+ MB\n"
     ]
    }
   ],
   "source": [
    "df3_cleaned.info()"
   ]
  },
  {
   "cell_type": "code",
   "execution_count": 35,
   "id": "9b6ad39d",
   "metadata": {},
   "outputs": [
    {
     "data": {
      "text/plain": [
       "(42007, 3)"
      ]
     },
     "execution_count": 35,
     "metadata": {},
     "output_type": "execute_result"
    }
   ],
   "source": [
    "df3.shape"
   ]
  },
  {
   "cell_type": "code",
   "execution_count": 36,
   "id": "d511d3cb",
   "metadata": {},
   "outputs": [],
   "source": [
    "output_file_path_1 = \"C:\\\\Users\\Saswata Tripathy\\Desktop\\Physician_Level_Data.csv\"\n",
    "df_cleaned.to_csv(output_file_path_1, index=False)"
   ]
  },
  {
   "cell_type": "code",
   "execution_count": 37,
   "id": "123fabef",
   "metadata": {},
   "outputs": [],
   "source": [
    "output_file_path_2 = \"C:\\\\Users\\Saswata Tripathy\\Desktop\\Affiliation.csv\"\n",
    "df2_cleaned.to_csv(output_file_path_2, index=False)"
   ]
  },
  {
   "cell_type": "code",
   "execution_count": 38,
   "id": "49f3140f",
   "metadata": {},
   "outputs": [],
   "source": [
    "output_file_path_3 = \"C:\\\\Users\\Saswata Tripathy\\Desktop\\Zip_TT.csv\"\n",
    "df3_cleaned.to_csv(output_file_path_3, index=False)"
   ]
  },
  {
   "cell_type": "code",
   "execution_count": null,
   "id": "8eae2ac9",
   "metadata": {},
   "outputs": [],
   "source": []
  }
 ],
 "metadata": {
  "kernelspec": {
   "display_name": "Python 3 (ipykernel)",
   "language": "python",
   "name": "python3"
  },
  "language_info": {
   "codemirror_mode": {
    "name": "ipython",
    "version": 3
   },
   "file_extension": ".py",
   "mimetype": "text/x-python",
   "name": "python",
   "nbconvert_exporter": "python",
   "pygments_lexer": "ipython3",
   "version": "3.10.9"
  }
 },
 "nbformat": 4,
 "nbformat_minor": 5
}
